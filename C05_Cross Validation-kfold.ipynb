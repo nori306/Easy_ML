{
 "cells": [
  {
   "cell_type": "code",
   "execution_count": 1,
   "metadata": {},
   "outputs": [],
   "source": [
    "import pandas as pd\n",
    "import numpy as np\n",
    "from sklearn.ensemble import GradientBoostingRegressor\n",
    "from sklearn.model_selection import cross_val_score\n",
    "from sklearn.model_selection import KFold"
   ]
  },
  {
   "cell_type": "code",
   "execution_count": 2,
   "metadata": {
    "scrolled": true
   },
   "outputs": [],
   "source": [
    "df = pd.read_csv('../input/color.csv', encoding = 'ansi')\n",
    "X = df[['pre-L', 'pre-a', 'pre-b', 'w+', 'ba+', 'bb+', 'y+', 'r+', 'ma+', 'mb+']]\n",
    "y = df['L+']"
   ]
  },
  {
   "cell_type": "code",
   "execution_count": 3,
   "metadata": {},
   "outputs": [
    {
     "name": "stdout",
     "output_type": "stream",
     "text": [
      "[0.96250747 0.97048671 0.96343474 0.95171139 0.9848731 ]\n",
      "0.9666026817485841\n"
     ]
    }
   ],
   "source": [
    "model = GradientBoostingRegressor(max_depth=10, n_estimators=300, random_state=12)\n",
    "scores = cross_val_score(model, X, y, scoring='r2', cv = KFold(n_splits=5, shuffle=True))\n",
    "\n",
    "print(scores)\n",
    "print(np.mean(scores))"
   ]
  }
 ],
 "metadata": {
  "kernelspec": {
   "display_name": "Python 3",
   "language": "python",
   "name": "python3"
  },
  "language_info": {
   "codemirror_mode": {
    "name": "ipython",
    "version": 3
   },
   "file_extension": ".py",
   "mimetype": "text/x-python",
   "name": "python",
   "nbconvert_exporter": "python",
   "pygments_lexer": "ipython3",
   "version": "3.8.8"
  }
 },
 "nbformat": 4,
 "nbformat_minor": 4
}
