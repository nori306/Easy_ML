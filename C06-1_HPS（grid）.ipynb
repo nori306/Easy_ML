{
 "cells": [
  {
   "cell_type": "code",
   "execution_count": 1,
   "id": "32d47d4c",
   "metadata": {},
   "outputs": [],
   "source": [
    "import pandas as pd\n",
    "import numpy as np\n",
    "from sklearn.model_selection import train_test_split\n",
    "from sklearn.ensemble import GradientBoostingRegressor\n",
    "from sklearn.model_selection import GridSearchCV\n",
    "from sklearn.metrics import r2_score "
   ]
  },
  {
   "cell_type": "code",
   "execution_count": 2,
   "id": "836944d2",
   "metadata": {},
   "outputs": [
    {
     "data": {
      "text/plain": [
       "Index(['MedInc', 'HouseAge', 'AveRooms', 'AveBedrms', 'Population', 'AveOccup',\n",
       "       'Latitude', 'Longitude', 'Price'],\n",
       "      dtype='object')"
      ]
     },
     "execution_count": 2,
     "metadata": {},
     "output_type": "execute_result"
    }
   ],
   "source": [
    "df = pd.read_csv('./input/04_California Housing.csv', encoding = 'ansi')\n",
    "df.columns"
   ]
  },
  {
   "cell_type": "code",
   "execution_count": 3,
   "id": "5c752122",
   "metadata": {},
   "outputs": [],
   "source": [
    "X = df[[\n",
    "    'MedInc', 'HouseAge', 'AveRooms', 'AveBedrms', \n",
    "    'Population', 'AveOccup','Latitude', 'Longitude'\n",
    "]]\n",
    "y = df['Price']\n",
    "(X_train, X_test ,y_train, y_test) = train_test_split(X, y, test_size = 0.3, random_state=1)\n"
   ]
  },
  {
   "cell_type": "code",
   "execution_count": 4,
   "id": "05863e2c",
   "metadata": {},
   "outputs": [
    {
     "name": "stdout",
     "output_type": "stream",
     "text": [
      "best_param = {'max_depth': 5, 'n_estimators': 600, 'random_state': 12}\n",
      "R2 0.8381145903771181\n"
     ]
    }
   ],
   "source": [
    "model = GradientBoostingRegressor()\n",
    "param_grid = [{'max_depth': [5, 10],\n",
    "               'n_estimators': [300, 600],\n",
    "               'random_state': [12]}]\n",
    "\n",
    "# HPのすべての組み合わせのモデルのセットを作成する\n",
    "grid_search = GridSearchCV(model, param_grid, cv=3, scoring='r2')\n",
    "\n",
    "# 上記モデルをすべて学習する\n",
    "grid_search.fit(X_train, y_train)\n",
    "\n",
    "# 最も良かったHPを選ぶ\n",
    "best_param = grid_search.best_params_\n",
    "\n",
    "# 最も良かったHPで作成したモデルでテストデータを予測する\n",
    "print(f'best_param = {best_param}')\n",
    "\n",
    "y_pred = grid_search.best_estimator_.predict(X_test)\n",
    "\n",
    "r2 = r2_score(y_test, y_pred)\n",
    "print(f'R2 {r2}')"
   ]
  },
  {
   "cell_type": "code",
   "execution_count": null,
   "id": "a3a094c7",
   "metadata": {},
   "outputs": [],
   "source": []
  }
 ],
 "metadata": {
  "kernelspec": {
   "display_name": "Python 3",
   "language": "python",
   "name": "python3"
  },
  "language_info": {
   "codemirror_mode": {
    "name": "ipython",
    "version": 3
   },
   "file_extension": ".py",
   "mimetype": "text/x-python",
   "name": "python",
   "nbconvert_exporter": "python",
   "pygments_lexer": "ipython3",
   "version": "3.8.8"
  }
 },
 "nbformat": 4,
 "nbformat_minor": 5
}
