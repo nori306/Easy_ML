{
 "cells": [
  {
   "cell_type": "code",
   "execution_count": 2,
   "metadata": {},
   "outputs": [],
   "source": [
    "import pandas as pd\n",
    "from sklearn.model_selection import train_test_split\n",
    "from sklearn.ensemble import GradientBoostingRegressor\n",
    "from sklearn.metrics import r2_score "
   ]
  },
  {
   "cell_type": "code",
   "execution_count": 3,
   "metadata": {},
   "outputs": [
    {
     "data": {
      "text/plain": [
       "Index(['MedInc', 'HouseAge', 'AveRooms', 'AveBedrms', 'Population', 'AveOccup',\n",
       "       'Latitude', 'Longitude', 'Price'],\n",
       "      dtype='object')"
      ]
     },
     "execution_count": 3,
     "metadata": {},
     "output_type": "execute_result"
    }
   ],
   "source": [
    "df = pd.read_csv('./input/04_California Housing.csv', encoding = 'ansi')\n",
    "df.columns"
   ]
  },
  {
   "cell_type": "code",
   "execution_count": 4,
   "metadata": {},
   "outputs": [
    {
     "name": "stdout",
     "output_type": "stream",
     "text": [
      "R2 0.826915288825071\n"
     ]
    }
   ],
   "source": [
    "X = df[[\n",
    "    'MedInc', 'HouseAge', 'AveRooms', 'AveBedrms', \n",
    "    'Population', 'AveOccup','Latitude', 'Longitude'\n",
    "]]\n",
    "y = df['Price']\n",
    "(X_train, X_test ,y_train, y_test) = train_test_split(X, y, test_size = 0.3, random_state=1)\n",
    "\n",
    "model = GradientBoostingRegressor(max_depth=10, n_estimators=300, random_state=12)\n",
    "model.fit(X_train, y_train)#訓練用データで学習\n",
    "\n",
    "y_pred = model.predict(X_test)#テスト用データの予測\n",
    "r2 = r2_score(y_test, y_pred)\n",
    "\n",
    "# r2 =  model.score(X_test, y_test)# r2を出すだけならこれでもよい\n",
    "\n",
    "print(f'R2 {r2}')"
   ]
  },
  {
   "cell_type": "code",
   "execution_count": null,
   "metadata": {},
   "outputs": [],
   "source": []
  }
 ],
 "metadata": {
  "kernelspec": {
   "display_name": "Python 3",
   "language": "python",
   "name": "python3"
  },
  "language_info": {
   "codemirror_mode": {
    "name": "ipython",
    "version": 3
   },
   "file_extension": ".py",
   "mimetype": "text/x-python",
   "name": "python",
   "nbconvert_exporter": "python",
   "pygments_lexer": "ipython3",
   "version": "3.8.8"
  }
 },
 "nbformat": 4,
 "nbformat_minor": 4
}
